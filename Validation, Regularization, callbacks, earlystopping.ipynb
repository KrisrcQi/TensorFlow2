{
 "cells": [
  {
   "cell_type": "code",
   "execution_count": 1,
   "metadata": {
    "scrolled": true
   },
   "outputs": [
    {
     "name": "stdout",
     "output_type": "stream",
     "text": [
      "2.0.0\n"
     ]
    }
   ],
   "source": [
    "import tensorflow as tf\n",
    "print(tf.__version__)"
   ]
  },
  {
   "cell_type": "markdown",
   "metadata": {},
   "source": [
    "# Validation, regularisation and callbacks"
   ]
  },
  {
   "cell_type": "markdown",
   "metadata": {},
   "source": [
    " ## Coding tutorials\n",
    " #### [1. Validation sets](#coding_tutorial_1)\n",
    " #### [2. Model regularisation](#coding_tutorial_2)\n",
    " #### [3. Introduction to callbacks](#coding_tutorial_3)\n",
    " #### [4. Early stopping / patience](#coding_tutorial_4)"
   ]
  },
  {
   "cell_type": "markdown",
   "metadata": {},
   "source": [
    "***\n",
    "<a id=\"coding_tutorial_1\"></a>\n",
    "## Validation sets"
   ]
  },
  {
   "cell_type": "markdown",
   "metadata": {},
   "source": [
    "#### Load the data"
   ]
  },
  {
   "cell_type": "code",
   "execution_count": 2,
   "metadata": {},
   "outputs": [
    {
     "name": "stdout",
     "output_type": "stream",
     "text": [
      ".. _diabetes_dataset:\n",
      "\n",
      "Diabetes dataset\n",
      "----------------\n",
      "\n",
      "Ten baseline variables, age, sex, body mass index, average blood\n",
      "pressure, and six blood serum measurements were obtained for each of n =\n",
      "442 diabetes patients, as well as the response of interest, a\n",
      "quantitative measure of disease progression one year after baseline.\n",
      "\n",
      "**Data Set Characteristics:**\n",
      "\n",
      "  :Number of Instances: 442\n",
      "\n",
      "  :Number of Attributes: First 10 columns are numeric predictive values\n",
      "\n",
      "  :Target: Column 11 is a quantitative measure of disease progression one year after baseline\n",
      "\n",
      "  :Attribute Information:\n",
      "      - Age\n",
      "      - Sex\n",
      "      - Body mass index\n",
      "      - Average blood pressure\n",
      "      - S1\n",
      "      - S2\n",
      "      - S3\n",
      "      - S4\n",
      "      - S5\n",
      "      - S6\n",
      "\n",
      "Note: Each of these 10 feature variables have been mean centered and scaled by the standard deviation times `n_samples` (i.e. the sum of squares of each column totals 1).\n",
      "\n",
      "Source URL:\n",
      "http://www4.stat.ncsu.edu/~boos/var.select/diabetes.html\n",
      "\n",
      "For more information see:\n",
      "Bradley Efron, Trevor Hastie, Iain Johnstone and Robert Tibshirani (2004) \"Least Angle Regression,\" Annals of Statistics (with discussion), 407-499.\n",
      "(http://web.stanford.edu/~hastie/Papers/LARS/LeastAngle_2002.pdf)\n"
     ]
    }
   ],
   "source": [
    "# Load the diabetes dataset\n",
    "from sklearn.datasets import load_diabetes\n",
    "\n",
    "diabetes_dataset = load_diabetes()\n",
    "print(diabetes_dataset['DESCR'])\n"
   ]
  },
  {
   "cell_type": "code",
   "execution_count": 3,
   "metadata": {},
   "outputs": [
    {
     "name": "stdout",
     "output_type": "stream",
     "text": [
      "dict_keys(['data', 'target', 'DESCR', 'feature_names', 'data_filename', 'target_filename'])\n"
     ]
    },
    {
     "data": {
      "text/plain": [
       "array([151.,  75., 141., 206., 135.,  97., 138.,  63., 110., 310., 101.,\n",
       "        69., 179., 185., 118., 171., 166., 144.,  97., 168.,  68.,  49.,\n",
       "        68., 245., 184., 202., 137.,  85., 131., 283., 129.,  59., 341.,\n",
       "        87.,  65., 102., 265., 276., 252.,  90., 100.,  55.,  61.,  92.,\n",
       "       259.,  53., 190., 142.,  75., 142., 155., 225.,  59., 104., 182.,\n",
       "       128.,  52.,  37., 170., 170.,  61., 144.,  52., 128.,  71., 163.,\n",
       "       150.,  97., 160., 178.,  48., 270., 202., 111.,  85.,  42., 170.,\n",
       "       200., 252., 113., 143.,  51.,  52., 210.,  65., 141.,  55., 134.,\n",
       "        42., 111.,  98., 164.,  48.,  96.,  90., 162., 150., 279.,  92.,\n",
       "        83., 128., 102., 302., 198.,  95.,  53., 134., 144., 232.,  81.,\n",
       "       104.,  59., 246., 297., 258., 229., 275., 281., 179., 200., 200.,\n",
       "       173., 180.,  84., 121., 161.,  99., 109., 115., 268., 274., 158.,\n",
       "       107.,  83., 103., 272.,  85., 280., 336., 281., 118., 317., 235.,\n",
       "        60., 174., 259., 178., 128.,  96., 126., 288.,  88., 292.,  71.,\n",
       "       197., 186.,  25.,  84.,  96., 195.,  53., 217., 172., 131., 214.,\n",
       "        59.,  70., 220., 268., 152.,  47.,  74., 295., 101., 151., 127.,\n",
       "       237., 225.,  81., 151., 107.,  64., 138., 185., 265., 101., 137.,\n",
       "       143., 141.,  79., 292., 178.,  91., 116.,  86., 122.,  72., 129.,\n",
       "       142.,  90., 158.,  39., 196., 222., 277.,  99., 196., 202., 155.,\n",
       "        77., 191.,  70.,  73.,  49.,  65., 263., 248., 296., 214., 185.,\n",
       "        78.,  93., 252., 150.,  77., 208.,  77., 108., 160.,  53., 220.,\n",
       "       154., 259.,  90., 246., 124.,  67.,  72., 257., 262., 275., 177.,\n",
       "        71.,  47., 187., 125.,  78.,  51., 258., 215., 303., 243.,  91.,\n",
       "       150., 310., 153., 346.,  63.,  89.,  50.,  39., 103., 308., 116.,\n",
       "       145.,  74.,  45., 115., 264.,  87., 202., 127., 182., 241.,  66.,\n",
       "        94., 283.,  64., 102., 200., 265.,  94., 230., 181., 156., 233.,\n",
       "        60., 219.,  80.,  68., 332., 248.,  84., 200.,  55.,  85.,  89.,\n",
       "        31., 129.,  83., 275.,  65., 198., 236., 253., 124.,  44., 172.,\n",
       "       114., 142., 109., 180., 144., 163., 147.,  97., 220., 190., 109.,\n",
       "       191., 122., 230., 242., 248., 249., 192., 131., 237.,  78., 135.,\n",
       "       244., 199., 270., 164.,  72.,  96., 306.,  91., 214.,  95., 216.,\n",
       "       263., 178., 113., 200., 139., 139.,  88., 148.,  88., 243.,  71.,\n",
       "        77., 109., 272.,  60.,  54., 221.,  90., 311., 281., 182., 321.,\n",
       "        58., 262., 206., 233., 242., 123., 167.,  63., 197.,  71., 168.,\n",
       "       140., 217., 121., 235., 245.,  40.,  52., 104., 132.,  88.,  69.,\n",
       "       219.,  72., 201., 110.,  51., 277.,  63., 118.,  69., 273., 258.,\n",
       "        43., 198., 242., 232., 175.,  93., 168., 275., 293., 281.,  72.,\n",
       "       140., 189., 181., 209., 136., 261., 113., 131., 174., 257.,  55.,\n",
       "        84.,  42., 146., 212., 233.,  91., 111., 152., 120.,  67., 310.,\n",
       "        94., 183.,  66., 173.,  72.,  49.,  64.,  48., 178., 104., 132.,\n",
       "       220.,  57.])"
      ]
     },
     "execution_count": 3,
     "metadata": {},
     "output_type": "execute_result"
    }
   ],
   "source": [
    "# Save the input and target variables\n",
    "\n",
    "print(diabetes_dataset.keys())\n",
    "\n",
    "data = diabetes_dataset[\"data\"]\n",
    "target = diabetes_dataset[\"target\"]\n",
    "\n",
    "target"
   ]
  },
  {
   "cell_type": "code",
   "execution_count": 4,
   "metadata": {},
   "outputs": [
    {
     "data": {
      "text/plain": [
       "array([-1.47194752e-02, -1.00165882e+00, -1.44579915e-01,  6.99512942e-01,\n",
       "       -2.22496178e-01, -7.15965848e-01, -1.83538046e-01, -1.15749134e+00,\n",
       "       -5.47147277e-01,  2.05006151e+00, -6.64021672e-01, -1.07957508e+00,\n",
       "        3.48889755e-01,  4.26806019e-01, -4.43258925e-01,  2.45001404e-01,\n",
       "        1.80071184e-01, -1.05621783e-01, -7.15965848e-01,  2.06043272e-01,\n",
       "       -1.09256112e+00, -1.33929596e+00, -1.09256112e+00,  1.20596866e+00,\n",
       "        4.13819975e-01,  6.47568766e-01, -1.96524090e-01, -8.71798376e-01,\n",
       "       -2.74440354e-01,  1.69943833e+00, -3.00412442e-01, -1.20943552e+00,\n",
       "        2.45262887e+00, -8.45826288e-01, -1.13151925e+00, -6.51035629e-01,\n",
       "        1.46568953e+00,  1.60853602e+00,  1.29687096e+00, -8.06868156e-01,\n",
       "       -6.77007716e-01, -1.26137969e+00, -1.18346343e+00, -7.80896068e-01,\n",
       "        1.38777327e+00, -1.28735178e+00,  4.91736239e-01, -1.31593871e-01,\n",
       "       -1.00165882e+00, -1.31593871e-01,  3.72247006e-02,  9.46247777e-01,\n",
       "       -1.20943552e+00, -6.25063541e-01,  3.87847887e-01, -3.13398486e-01,\n",
       "       -1.30033783e+00, -1.49512849e+00,  2.32015360e-01,  2.32015360e-01,\n",
       "       -1.18346343e+00, -1.05621783e-01, -1.30033783e+00, -3.13398486e-01,\n",
       "       -1.05360299e+00,  1.41113052e-01, -2.77055191e-02, -7.15965848e-01,\n",
       "        1.02154920e-01,  3.35903711e-01, -1.35228200e+00,  1.53061975e+00,\n",
       "        6.47568766e-01, -5.34161233e-01, -8.71798376e-01, -1.43019827e+00,\n",
       "        2.32015360e-01,  6.21596678e-01,  1.29687096e+00, -5.08189145e-01,\n",
       "       -1.18607827e-01, -1.31332387e+00, -1.30033783e+00,  7.51457118e-01,\n",
       "       -1.13151925e+00, -1.44579915e-01, -1.26137969e+00, -2.35482222e-01,\n",
       "       -1.43019827e+00, -5.34161233e-01, -7.02979804e-01,  1.54099096e-01,\n",
       "       -1.35228200e+00, -7.28951892e-01, -8.06868156e-01,  1.28127008e-01,\n",
       "       -2.77055191e-02,  1.64749415e+00, -7.80896068e-01, -8.97770464e-01,\n",
       "       -3.13398486e-01, -6.51035629e-01,  1.94617316e+00,  5.95624590e-01,\n",
       "       -7.41937936e-01, -1.28735178e+00, -2.35482222e-01, -1.05621783e-01,\n",
       "        1.03715008e+00, -9.23742551e-01, -6.25063541e-01, -1.20943552e+00,\n",
       "        1.21895470e+00,  1.88124294e+00,  1.37478723e+00,  9.98191953e-01,\n",
       "        1.59554997e+00,  1.67346624e+00,  3.48889755e-01,  6.21596678e-01,\n",
       "        6.21596678e-01,  2.70973492e-01,  3.61875799e-01, -8.84784420e-01,\n",
       "       -4.04300794e-01,  1.15140964e-01, -6.89993760e-01, -5.60133321e-01,\n",
       "       -4.82217057e-01,  1.50464767e+00,  1.58256393e+00,  7.61828325e-02,\n",
       "       -5.86105409e-01, -8.97770464e-01, -6.38049585e-01,  1.55659184e+00,\n",
       "       -8.71798376e-01,  1.66048019e+00,  2.38769865e+00,  1.67346624e+00,\n",
       "       -4.43258925e-01,  2.14096382e+00,  1.07610822e+00, -1.19644947e+00,\n",
       "        2.83959536e-01,  1.38777327e+00,  3.35903711e-01, -3.13398486e-01,\n",
       "       -7.28951892e-01, -3.39370574e-01,  1.76436855e+00, -8.32840244e-01,\n",
       "        1.81631272e+00, -1.05360299e+00,  5.82638546e-01,  4.39792063e-01,\n",
       "       -1.65096101e+00, -8.84784420e-01, -7.28951892e-01,  5.56666458e-01,\n",
       "       -1.28735178e+00,  8.42359425e-01,  2.57987448e-01, -2.74440354e-01,\n",
       "        8.03401293e-01, -1.20943552e+00, -1.06658903e+00,  8.81317557e-01,\n",
       "        1.50464767e+00, -1.73343121e-03, -1.36526805e+00, -1.01464486e+00,\n",
       "        1.85527085e+00, -6.64021672e-01, -1.47194752e-02, -3.26384530e-01,\n",
       "        1.10208030e+00,  9.46247777e-01, -9.23742551e-01, -1.47194752e-02,\n",
       "       -5.86105409e-01, -1.14450530e+00, -1.83538046e-01,  4.26806019e-01,\n",
       "        1.46568953e+00, -6.64021672e-01, -1.96524090e-01, -1.18607827e-01,\n",
       "       -1.44579915e-01, -9.49714639e-01,  1.81631272e+00,  3.35903711e-01,\n",
       "       -7.93882112e-01, -4.69231013e-01, -8.58812332e-01, -3.91314750e-01,\n",
       "       -1.04061695e+00, -3.00412442e-01, -1.31593871e-01, -8.06868156e-01,\n",
       "        7.61828325e-02, -1.46915640e+00,  5.69652502e-01,  9.07289645e-01,\n",
       "        1.62152206e+00, -6.89993760e-01,  5.69652502e-01,  6.47568766e-01,\n",
       "        3.72247006e-02, -9.75686727e-01,  5.04722283e-01, -1.06658903e+00,\n",
       "       -1.02763090e+00, -1.33929596e+00, -1.13151925e+00,  1.43971745e+00,\n",
       "        1.24492679e+00,  1.86825690e+00,  8.03401293e-01,  4.26806019e-01,\n",
       "       -9.62700683e-01, -7.67910024e-01,  1.29687096e+00, -2.77055191e-02,\n",
       "       -9.75686727e-01,  7.25485030e-01, -9.75686727e-01, -5.73119365e-01,\n",
       "        1.02154920e-01, -1.28735178e+00,  8.81317557e-01,  2.42386567e-02,\n",
       "        1.38777327e+00, -8.06868156e-01,  1.21895470e+00, -3.65342662e-01,\n",
       "       -1.10554717e+00, -1.04061695e+00,  1.36180118e+00,  1.42673140e+00,\n",
       "        1.59554997e+00,  3.22917667e-01, -1.05360299e+00, -1.36526805e+00,\n",
       "        4.52778107e-01, -3.52356618e-01, -9.62700683e-01, -1.31332387e+00,\n",
       "        1.37478723e+00,  8.16387337e-01,  1.95915920e+00,  1.17999657e+00,\n",
       "       -7.93882112e-01, -2.77055191e-02,  2.05006151e+00,  1.12526127e-02,\n",
       "        2.51755909e+00, -1.15749134e+00, -8.19854200e-01, -1.32630991e+00,\n",
       "       -1.46915640e+00, -6.38049585e-01,  2.02408942e+00, -4.69231013e-01,\n",
       "       -9.26357388e-02, -1.01464486e+00, -1.39124013e+00, -4.82217057e-01,\n",
       "        1.45270349e+00, -8.45826288e-01,  6.47568766e-01, -3.26384530e-01,\n",
       "        3.87847887e-01,  1.15402448e+00, -1.11853321e+00, -7.54923980e-01,\n",
       "        1.69943833e+00, -1.14450530e+00, -6.51035629e-01,  6.21596678e-01,\n",
       "        1.46568953e+00, -7.54923980e-01,  1.01117800e+00,  3.74861843e-01,\n",
       "        5.02107446e-02,  1.05013613e+00, -1.19644947e+00,  8.68331513e-01,\n",
       "       -9.36728595e-01, -1.09256112e+00,  2.33575448e+00,  1.24492679e+00,\n",
       "       -8.84784420e-01,  6.21596678e-01, -1.26137969e+00, -8.71798376e-01,\n",
       "       -8.19854200e-01, -1.57304475e+00, -3.00412442e-01, -8.97770464e-01,\n",
       "        1.59554997e+00, -1.13151925e+00,  5.95624590e-01,  1.08909426e+00,\n",
       "        1.30985701e+00, -3.65342662e-01, -1.40422618e+00,  2.57987448e-01,\n",
       "       -4.95203101e-01, -1.31593871e-01, -5.60133321e-01,  3.61875799e-01,\n",
       "       -1.05621783e-01,  1.41113052e-01, -6.66636509e-02, -7.15965848e-01,\n",
       "        8.81317557e-01,  4.91736239e-01, -5.60133321e-01,  5.04722283e-01,\n",
       "       -3.91314750e-01,  1.01117800e+00,  1.16701052e+00,  1.24492679e+00,\n",
       "        1.25791283e+00,  5.17708327e-01, -2.74440354e-01,  1.10208030e+00,\n",
       "       -9.62700683e-01, -2.22496178e-01,  1.19298261e+00,  6.08610634e-01,\n",
       "        1.53061975e+00,  1.54099096e-01, -1.04061695e+00, -7.28951892e-01,\n",
       "        1.99811734e+00, -7.93882112e-01,  8.03401293e-01, -7.41937936e-01,\n",
       "        8.29373381e-01,  1.43971745e+00,  3.35903711e-01, -5.08189145e-01,\n",
       "        6.21596678e-01, -1.70552003e-01, -1.70552003e-01, -8.32840244e-01,\n",
       "       -5.36776070e-02, -8.32840244e-01,  1.17999657e+00, -1.05360299e+00,\n",
       "       -9.75686727e-01, -5.60133321e-01,  1.55659184e+00, -1.19644947e+00,\n",
       "       -1.27436574e+00,  8.94303601e-01, -8.06868156e-01,  2.06304756e+00,\n",
       "        1.67346624e+00,  3.87847887e-01,  2.19290800e+00, -1.22242156e+00,\n",
       "        1.42673140e+00,  6.99512942e-01,  1.05013613e+00,  1.16701052e+00,\n",
       "       -3.78328706e-01,  1.93057228e-01, -1.15749134e+00,  5.82638546e-01,\n",
       "       -1.05360299e+00,  2.06043272e-01, -1.57565959e-01,  8.42359425e-01,\n",
       "       -4.04300794e-01,  1.07610822e+00,  1.20596866e+00, -1.45617035e+00,\n",
       "       -1.30033783e+00, -6.25063541e-01, -2.61454310e-01, -8.32840244e-01,\n",
       "       -1.07957508e+00,  8.68331513e-01, -1.04061695e+00,  6.34582722e-01,\n",
       "       -5.47147277e-01, -1.31332387e+00,  1.62152206e+00, -1.15749134e+00,\n",
       "       -4.43258925e-01, -1.07957508e+00,  1.56957789e+00,  1.37478723e+00,\n",
       "       -1.41721222e+00,  5.95624590e-01,  1.16701052e+00,  1.03715008e+00,\n",
       "        2.96945580e-01, -7.67910024e-01,  2.06043272e-01,  1.59554997e+00,\n",
       "        1.82929877e+00,  1.67346624e+00, -1.04061695e+00, -1.57565959e-01,\n",
       "        4.78750195e-01,  3.74861843e-01,  7.38471074e-01, -2.09510134e-01,\n",
       "        1.41374536e+00, -5.08189145e-01, -2.74440354e-01,  2.83959536e-01,\n",
       "        1.36180118e+00, -1.26137969e+00, -8.84784420e-01, -1.43019827e+00,\n",
       "       -7.96496949e-02,  7.77429206e-01,  1.05013613e+00, -7.93882112e-01,\n",
       "       -5.34161233e-01, -1.73343121e-03, -4.17286837e-01, -1.10554717e+00,\n",
       "        2.05006151e+00, -7.54923980e-01,  4.00833931e-01, -1.11853321e+00,\n",
       "        2.70973492e-01, -1.04061695e+00, -1.33929596e+00, -1.14450530e+00,\n",
       "       -1.35228200e+00,  3.35903711e-01, -6.25063541e-01, -2.61454310e-01,\n",
       "        8.81317557e-01, -1.23540761e+00])"
      ]
     },
     "execution_count": 4,
     "metadata": {},
     "output_type": "execute_result"
    }
   ],
   "source": [
    "# Normalise the target data (this will make clearer training curves)\n",
    "\n",
    "target = (target - target.mean())/target.std()\n",
    "target \n"
   ]
  },
  {
   "cell_type": "code",
   "execution_count": 7,
   "metadata": {},
   "outputs": [
    {
     "data": {
      "image/png": "[encoded data removed]",
      "text/plain": [
       "<Figure size 432x288 with 1 Axes>"
      ]
     },
     "metadata": {
      "needs_background": "light"
     },
     "output_type": "display_data"
    }
   ],
   "source": [
    "# plot the normalized data of 'target'\n",
    "\n",
    "import matplotlib.pyplot as plt\n",
    "import numpy as np\n",
    "\n",
    "plt.plot(target)\n",
    "plt.xlabel('Xlable')\n",
    "plt.ylabel('Ylable')\n",
    "plt.show()\n"
   ]
  },
  {
   "cell_type": "code",
   "execution_count": 5,
   "metadata": {},
   "outputs": [
    {
     "name": "stdout",
     "output_type": "stream",
     "text": [
      "(397, 10)\n",
      "(45, 10)\n",
      "(397,)\n",
      "(45,)\n"
     ]
    }
   ],
   "source": [
    "# Split the data into train and test sets\n",
    "\n",
    "from sklearn.model_selection import train_test_split\n",
    "\n",
    "train_data, test_data, train_target, test_target = train_test_split(data, target, test_size = 0.1)\n",
    "\n",
    "print(train_data.shape)\n",
    "print(test_data.shape)\n",
    "print(train_target.shape)\n",
    "print(test_target.shape)"
   ]
  },
  {
   "cell_type": "markdown",
   "metadata": {},
   "source": [
    "#### Train a feedforward neural network model"
   ]
  },
  {
   "cell_type": "code",
   "execution_count": 6,
   "metadata": {},
   "outputs": [],
   "source": [
    "# Build the model\n",
    "\n",
    "from tensorflow.keras.models import Sequential\n",
    "from tensorflow.keras.layers import Dense\n",
    "\n",
    "def get_model():\n",
    "    model = Sequential([\n",
    "        Dense(128, activation = 'relu', input_shape=(train_data.shape[1],)),\n",
    "        Dense(128, activation = 'relu'),\n",
    "        Dense(128, activation = 'relu'),\n",
    "        Dense(128, activation = 'relu'),\n",
    "        Dense(128, activation = 'relu'),\n",
    "        Dense(128, activation = 'relu'),\n",
    "        Dense(1)\n",
    "    ])\n",
    "    return model\n",
    "\n",
    "model = get_model()"
   ]
  },
  {
   "cell_type": "code",
   "execution_count": 7,
   "metadata": {},
   "outputs": [
    {
     "name": "stdout",
     "output_type": "stream",
     "text": [
      "Model: \"sequential\"\n",
      "_________________________________________________________________\n",
      "Layer (type)                 Output Shape              Param #   \n",
      "=================================================================\n",
      "dense (Dense)                (None, 128)               1408      \n",
      "_________________________________________________________________\n",
      "dense_1 (Dense)              (None, 128)               16512     \n",
      "_________________________________________________________________\n",
      "dense_2 (Dense)              (None, 128)               16512     \n",
      "_________________________________________________________________\n",
      "dense_3 (Dense)              (None, 128)               16512     \n",
      "_________________________________________________________________\n",
      "dense_4 (Dense)              (None, 128)               16512     \n",
      "_________________________________________________________________\n",
      "dense_5 (Dense)              (None, 128)               16512     \n",
      "_________________________________________________________________\n",
      "dense_6 (Dense)              (None, 1)                 129       \n",
      "=================================================================\n",
      "Total params: 84,097\n",
      "Trainable params: 84,097\n",
      "Non-trainable params: 0\n",
      "_________________________________________________________________\n"
     ]
    }
   ],
   "source": [
    "# Print the model summary\n",
    "\n",
    "model.summary()\n"
   ]
  },
  {
   "cell_type": "code",
   "execution_count": 8,
   "metadata": {},
   "outputs": [],
   "source": [
    "# Compile the model\n",
    "\n",
    "model.compile(optimizer = 'adam',\n",
    "              loss = 'mse',\n",
    "              metrices = 'mae'\n",
    "             )"
   ]
  },
  {
   "cell_type": "code",
   "execution_count": 12,
   "metadata": {},
   "outputs": [
    {
     "name": "stdout",
     "output_type": "stream",
     "text": [
      "Train on 337 samples, validate on 60 samples\n",
      "Epoch 1/20\n",
      "337/337 [==============================] - 2s 6ms/sample - loss: 0.9703 - val_loss: 0.9814\n",
      "Epoch 2/20\n",
      "337/337 [==============================] - 0s 614us/sample - loss: 0.8962 - val_loss: 0.8423\n",
      "Epoch 3/20\n",
      "337/337 [==============================] - 0s 593us/sample - loss: 0.7023 - val_loss: 0.6016\n",
      "Epoch 4/20\n",
      "337/337 [==============================] - 0s 589us/sample - loss: 0.5285 - val_loss: 0.5416\n",
      "Epoch 5/20\n",
      "337/337 [==============================] - 0s 607us/sample - loss: 0.4965 - val_loss: 0.5146\n",
      "Epoch 6/20\n",
      "337/337 [==============================] - 0s 591us/sample - loss: 0.4830 - val_loss: 0.4781\n",
      "Epoch 7/20\n",
      "337/337 [==============================] - 0s 603us/sample - loss: 0.4527 - val_loss: 0.5450\n",
      "Epoch 8/20\n",
      "337/337 [==============================] - 0s 852us/sample - loss: 0.4631 - val_loss: 0.4876\n",
      "Epoch 9/20\n",
      "337/337 [==============================] - 0s 598us/sample - loss: 0.4557 - val_loss: 0.4971\n",
      "Epoch 10/20\n",
      "337/337 [==============================] - 0s 585us/sample - loss: 0.4473 - val_loss: 0.5213\n",
      "Epoch 11/20\n",
      "337/337 [==============================] - 0s 594us/sample - loss: 0.4384 - val_loss: 0.5302\n",
      "Epoch 12/20\n",
      "337/337 [==============================] - 0s 585us/sample - loss: 0.4445 - val_loss: 0.5867\n",
      "Epoch 13/20\n",
      "337/337 [==============================] - 0s 598us/sample - loss: 0.4668 - val_loss: 0.5251\n",
      "Epoch 14/20\n",
      "337/337 [==============================] - 0s 600us/sample - loss: 0.4079 - val_loss: 0.5425\n",
      "Epoch 15/20\n",
      "337/337 [==============================] - 0s 602us/sample - loss: 0.4246 - val_loss: 0.5200\n",
      "Epoch 16/20\n",
      "337/337 [==============================] - 0s 585us/sample - loss: 0.4008 - val_loss: 0.5661\n",
      "Epoch 17/20\n",
      "337/337 [==============================] - 0s 605us/sample - loss: 0.3931 - val_loss: 0.5502\n",
      "Epoch 18/20\n",
      "337/337 [==============================] - 0s 589us/sample - loss: 0.3891 - val_loss: 0.5779\n",
      "Epoch 19/20\n",
      "337/337 [==============================] - 0s 902us/sample - loss: 0.3854 - val_loss: 0.6208\n",
      "Epoch 20/20\n",
      "337/337 [==============================] - 0s 544us/sample - loss: 0.3851 - val_loss: 0.5966\n"
     ]
    }
   ],
   "source": [
    "# Train the model, with some of the data reserved for validation\n",
    "\n",
    "history = model.fit(train_data, train_target, epochs = 20, validation_split = 0.15, batch_size = 64)"
   ]
  },
  {
   "cell_type": "code",
   "execution_count": 13,
   "metadata": {},
   "outputs": [
    {
     "name": "stdout",
     "output_type": "stream",
     "text": [
      "45/1 - 0s - loss: 0.5034\n"
     ]
    },
    {
     "data": {
      "text/plain": [
       "0.6405476702584161"
      ]
     },
     "execution_count": 13,
     "metadata": {},
     "output_type": "execute_result"
    }
   ],
   "source": [
    "# Evaluate the model on the test set\n",
    "\n",
    "model.evaluate(test_data, test_target, verbose = 2)\n"
   ]
  },
  {
   "cell_type": "markdown",
   "metadata": {},
   "source": [
    "#### Plot the learning curves"
   ]
  },
  {
   "cell_type": "code",
   "execution_count": 14,
   "metadata": {},
   "outputs": [],
   "source": [
    "import matplotlib.pyplot as plt\n",
    "%matplotlib inline"
   ]
  },
  {
   "cell_type": "code",
   "execution_count": 15,
   "metadata": {},
   "outputs": [
    {
     "data": {
      "image/png": "[encoded data removed]",
      "text/plain": [
       "<Figure size 432x288 with 1 Axes>"
      ]
     },
     "metadata": {
      "needs_background": "light"
     },
     "output_type": "display_data"
    }
   ],
   "source": [
    "# Plot the training and validation loss\n",
    "\n",
    "plt.plot(history.history['loss'])\n",
    "plt.plot(history.history['val_loss'])\n",
    "plt.title('Loss vs. epochs')\n",
    "plt.ylabel('Loss')\n",
    "plt.xlabel('Epoch')\n",
    "plt.legend(['Training', 'Validation'], loc='upper right')\n",
    "plt.show()"
   ]
  },
  {
   "cell_type": "markdown",
   "metadata": {},
   "source": [
    "***\n",
    "<a id=\"coding_tutorial_2\"></a>\n",
    "## Model regularisation"
   ]
  },
  {
   "cell_type": "markdown",
   "metadata": {},
   "source": [
    "#### Adding regularisation with weight decay and dropout"
   ]
  },
  {
   "cell_type": "code",
   "execution_count": 9,
   "metadata": {},
   "outputs": [],
   "source": [
    "from tensorflow.keras.layers import Dropout\n",
    "from tensorflow.keras import regularizers"
   ]
  },
  {
   "cell_type": "code",
   "execution_count": 10,
   "metadata": {},
   "outputs": [],
   "source": [
    "def get_regularised_model(wd, rate):\n",
    "    model = Sequential([\n",
    "        Dense(128, kernel_regularizer = regularizers.l2(wd), activation=\"relu\", input_shape=(train_data.shape[1],)),\n",
    "        Dropout(rate),\n",
    "        Dense(128, kernel_regularizer = regularizers.l2(wd), activation=\"relu\"),\n",
    "        Dropout(rate),\n",
    "        Dense(128, kernel_regularizer = regularizers.l2(wd), activation=\"relu\"),\n",
    "        Dropout(rate),\n",
    "        Dense(128, kernel_regularizer = regularizers.l2(wd), activation=\"relu\"),\n",
    "        Dropout(rate),\n",
    "        Dense(128, kernel_regularizer = regularizers.l2(wd), activation=\"relu\"),\n",
    "        Dropout(rate),\n",
    "        Dense(128, kernel_regularizer = regularizers.l2(wd), activation=\"relu\"),\n",
    "        Dropout(rate),\n",
    "        Dense(1)\n",
    "    ])\n",
    "    return model"
   ]
  },
  {
   "cell_type": "code",
   "execution_count": 11,
   "metadata": {},
   "outputs": [],
   "source": [
    "# Re-build the model with weight decay and dropout layers\n",
    "\n",
    "model = get_regularised_model(1e-5, 0.3)"
   ]
  },
  {
   "cell_type": "code",
   "execution_count": 22,
   "metadata": {},
   "outputs": [],
   "source": [
    "# Compile the model\n",
    "\n",
    "model.compile(optimizer = 'adam',\n",
    "             loss = 'mse',\n",
    "             metrics = ['mae'])\n"
   ]
  },
  {
   "cell_type": "code",
   "execution_count": 23,
   "metadata": {},
   "outputs": [
    {
     "name": "stdout",
     "output_type": "stream",
     "text": [
      "Train on 337 samples, validate on 60 samples\n",
      "Epoch 1/100\n",
      "337/337 [==============================] - 2s 6ms/sample - loss: 0.9875 - mae: 0.8453 - val_loss: 1.0122 - val_mae: 0.8370\n",
      "Epoch 2/100\n",
      "337/337 [==============================] - 0s 583us/sample - loss: 0.9662 - mae: 0.8379 - val_loss: 0.9676 - val_mae: 0.8180\n",
      "Epoch 3/100\n",
      "337/337 [==============================] - 0s 607us/sample - loss: 0.9071 - mae: 0.8125 - val_loss: 0.8497 - val_mae: 0.7719\n",
      "Epoch 4/100\n",
      "337/337 [==============================] - 0s 581us/sample - loss: 0.7575 - mae: 0.7341 - val_loss: 0.6703 - val_mae: 0.6744\n",
      "Epoch 5/100\n",
      "337/337 [==============================] - 0s 597us/sample - loss: 0.6492 - mae: 0.6665 - val_loss: 0.6425 - val_mae: 0.6461\n",
      "Epoch 6/100\n",
      "337/337 [==============================] - 0s 599us/sample - loss: 0.6230 - mae: 0.6362 - val_loss: 0.5517 - val_mae: 0.6048\n",
      "Epoch 7/100\n",
      "337/337 [==============================] - 0s 588us/sample - loss: 0.6149 - mae: 0.6292 - val_loss: 0.5574 - val_mae: 0.6250\n",
      "Epoch 8/100\n",
      "337/337 [==============================] - 0s 595us/sample - loss: 0.5695 - mae: 0.6157 - val_loss: 0.5330 - val_mae: 0.6062\n",
      "Epoch 9/100\n",
      "337/337 [==============================] - 0s 359us/sample - loss: 0.5452 - mae: 0.5967 - val_loss: 0.5101 - val_mae: 0.5834\n",
      "Epoch 10/100\n",
      "337/337 [==============================] - 0s 601us/sample - loss: 0.5424 - mae: 0.5883 - val_loss: 0.5120 - val_mae: 0.5742\n",
      "Epoch 11/100\n",
      "337/337 [==============================] - 0s 611us/sample - loss: 0.5399 - mae: 0.5848 - val_loss: 0.5040 - val_mae: 0.5821\n",
      "Epoch 12/100\n",
      "337/337 [==============================] - 0s 576us/sample - loss: 0.5542 - mae: 0.6011 - val_loss: 0.5106 - val_mae: 0.5742\n",
      "Epoch 13/100\n",
      "337/337 [==============================] - 0s 583us/sample - loss: 0.5586 - mae: 0.5892 - val_loss: 0.5262 - val_mae: 0.5808\n",
      "Epoch 14/100\n",
      "337/337 [==============================] - 0s 604us/sample - loss: 0.5151 - mae: 0.5753 - val_loss: 0.5118 - val_mae: 0.5916\n",
      "Epoch 15/100\n",
      "337/337 [==============================] - 0s 595us/sample - loss: 0.5519 - mae: 0.5973 - val_loss: 0.5484 - val_mae: 0.5886\n",
      "Epoch 16/100\n",
      "337/337 [==============================] - 0s 598us/sample - loss: 0.5177 - mae: 0.5832 - val_loss: 0.5149 - val_mae: 0.5983\n",
      "Epoch 17/100\n",
      "337/337 [==============================] - 0s 589us/sample - loss: 0.5510 - mae: 0.6075 - val_loss: 0.5123 - val_mae: 0.5931\n",
      "Epoch 18/100\n",
      "337/337 [==============================] - 0s 591us/sample - loss: 0.5322 - mae: 0.5901 - val_loss: 0.5262 - val_mae: 0.5871\n",
      "Epoch 19/100\n",
      "337/337 [==============================] - 0s 587us/sample - loss: 0.5012 - mae: 0.5713 - val_loss: 0.5209 - val_mae: 0.5954\n",
      "Epoch 20/100\n",
      "337/337 [==============================] - 0s 603us/sample - loss: 0.5119 - mae: 0.5731 - val_loss: 0.5166 - val_mae: 0.5875\n",
      "Epoch 21/100\n",
      "337/337 [==============================] - 0s 554us/sample - loss: 0.4860 - mae: 0.5647 - val_loss: 0.5170 - val_mae: 0.5859\n",
      "Epoch 22/100\n",
      "337/337 [==============================] - 0s 347us/sample - loss: 0.4943 - mae: 0.5633 - val_loss: 0.5162 - val_mae: 0.5816\n",
      "Epoch 23/100\n",
      "337/337 [==============================] - 0s 343us/sample - loss: 0.4923 - mae: 0.5699 - val_loss: 0.5162 - val_mae: 0.5850\n",
      "Epoch 24/100\n",
      "337/337 [==============================] - 0s 594us/sample - loss: 0.4918 - mae: 0.5654 - val_loss: 0.5290 - val_mae: 0.5789\n",
      "Epoch 25/100\n",
      "337/337 [==============================] - 0s 592us/sample - loss: 0.5047 - mae: 0.5559 - val_loss: 0.5252 - val_mae: 0.5913\n",
      "Epoch 26/100\n",
      "337/337 [==============================] - 0s 582us/sample - loss: 0.4754 - mae: 0.5534 - val_loss: 0.5188 - val_mae: 0.5879\n",
      "Epoch 27/100\n",
      "337/337 [==============================] - 0s 589us/sample - loss: 0.4502 - mae: 0.5376 - val_loss: 0.5318 - val_mae: 0.5907\n",
      "Epoch 28/100\n",
      "337/337 [==============================] - 0s 587us/sample - loss: 0.4882 - mae: 0.5532 - val_loss: 0.5238 - val_mae: 0.5844\n",
      "Epoch 29/100\n",
      "337/337 [==============================] - 0s 569us/sample - loss: 0.4835 - mae: 0.5609 - val_loss: 0.5317 - val_mae: 0.5868\n",
      "Epoch 30/100\n",
      "337/337 [==============================] - 0s 333us/sample - loss: 0.4775 - mae: 0.5526 - val_loss: 0.5373 - val_mae: 0.5919\n",
      "Epoch 31/100\n",
      "337/337 [==============================] - 0s 338us/sample - loss: 0.4981 - mae: 0.5646 - val_loss: 0.5360 - val_mae: 0.5945\n",
      "Epoch 32/100\n",
      "337/337 [==============================] - 0s 592us/sample - loss: 0.4856 - mae: 0.5565 - val_loss: 0.5396 - val_mae: 0.5924\n",
      "Epoch 33/100\n",
      "337/337 [==============================] - 0s 582us/sample - loss: 0.4647 - mae: 0.5492 - val_loss: 0.5310 - val_mae: 0.5861\n",
      "Epoch 34/100\n",
      "337/337 [==============================] - 0s 592us/sample - loss: 0.4809 - mae: 0.5548 - val_loss: 0.5401 - val_mae: 0.5933\n",
      "Epoch 35/100\n",
      "337/337 [==============================] - 0s 592us/sample - loss: 0.4445 - mae: 0.5312 - val_loss: 0.5238 - val_mae: 0.5759\n",
      "Epoch 36/100\n",
      "337/337 [==============================] - 0s 579us/sample - loss: 0.4533 - mae: 0.5312 - val_loss: 0.5214 - val_mae: 0.5699\n",
      "Epoch 37/100\n",
      "337/337 [==============================] - 0s 576us/sample - loss: 0.4614 - mae: 0.5343 - val_loss: 0.5330 - val_mae: 0.5849\n",
      "Epoch 38/100\n",
      "337/337 [==============================] - 0s 590us/sample - loss: 0.4670 - mae: 0.5593 - val_loss: 0.5542 - val_mae: 0.5917\n",
      "Epoch 39/100\n",
      "337/337 [==============================] - 0s 327us/sample - loss: 0.4346 - mae: 0.5378 - val_loss: 0.5446 - val_mae: 0.5857\n",
      "Epoch 40/100\n",
      "337/337 [==============================] - 0s 842us/sample - loss: 0.4342 - mae: 0.5306 - val_loss: 0.5605 - val_mae: 0.5974\n",
      "Epoch 41/100\n",
      "337/337 [==============================] - 0s 345us/sample - loss: 0.4651 - mae: 0.5521 - val_loss: 0.5615 - val_mae: 0.6017\n",
      "Epoch 42/100\n",
      "337/337 [==============================] - 0s 584us/sample - loss: 0.4807 - mae: 0.5521 - val_loss: 0.5536 - val_mae: 0.5944\n",
      "Epoch 43/100\n",
      "337/337 [==============================] - 0s 589us/sample - loss: 0.4350 - mae: 0.5242 - val_loss: 0.5669 - val_mae: 0.5989\n",
      "Epoch 44/100\n",
      "337/337 [==============================] - 0s 584us/sample - loss: 0.4366 - mae: 0.5243 - val_loss: 0.5914 - val_mae: 0.6054\n",
      "Epoch 45/100\n",
      "337/337 [==============================] - 0s 588us/sample - loss: 0.4352 - mae: 0.5244 - val_loss: 0.5918 - val_mae: 0.6176\n",
      "Epoch 46/100\n",
      "337/337 [==============================] - 0s 587us/sample - loss: 0.4465 - mae: 0.5385 - val_loss: 0.6097 - val_mae: 0.6164\n",
      "Epoch 47/100\n",
      "337/337 [==============================] - 0s 582us/sample - loss: 0.4739 - mae: 0.5493 - val_loss: 0.6038 - val_mae: 0.6156\n",
      "Epoch 48/100\n",
      "337/337 [==============================] - 0s 573us/sample - loss: 0.4475 - mae: 0.5335 - val_loss: 0.5874 - val_mae: 0.6070\n",
      "Epoch 49/100\n",
      "337/337 [==============================] - 0s 343us/sample - loss: 0.4163 - mae: 0.4980 - val_loss: 0.6554 - val_mae: 0.6215\n",
      "Epoch 50/100\n",
      "337/337 [==============================] - 0s 590us/sample - loss: 0.4411 - mae: 0.5300 - val_loss: 0.6143 - val_mae: 0.6377\n",
      "Epoch 51/100\n",
      "337/337 [==============================] - 0s 586us/sample - loss: 0.4708 - mae: 0.5581 - val_loss: 0.6008 - val_mae: 0.6124\n",
      "Epoch 52/100\n",
      "337/337 [==============================] - 0s 674us/sample - loss: 0.4344 - mae: 0.5216 - val_loss: 0.5993 - val_mae: 0.6123\n",
      "Epoch 53/100\n",
      "337/337 [==============================] - 0s 503us/sample - loss: 0.4384 - mae: 0.5265 - val_loss: 0.5962 - val_mae: 0.6243\n",
      "Epoch 54/100\n",
      "337/337 [==============================] - 0s 577us/sample - loss: 0.4159 - mae: 0.5082 - val_loss: 0.6089 - val_mae: 0.6054\n",
      "Epoch 55/100\n",
      "337/337 [==============================] - 0s 588us/sample - loss: 0.4093 - mae: 0.5055 - val_loss: 0.6198 - val_mae: 0.6241\n",
      "Epoch 56/100\n",
      "337/337 [==============================] - 0s 591us/sample - loss: 0.3833 - mae: 0.4870 - val_loss: 0.6394 - val_mae: 0.6292\n",
      "Epoch 57/100\n",
      "337/337 [==============================] - 0s 579us/sample - loss: 0.4199 - mae: 0.5246 - val_loss: 0.6778 - val_mae: 0.6403\n",
      "Epoch 58/100\n",
      "337/337 [==============================] - 0s 585us/sample - loss: 0.4273 - mae: 0.5128 - val_loss: 0.6803 - val_mae: 0.6384\n",
      "Epoch 59/100\n",
      "337/337 [==============================] - 0s 339us/sample - loss: 0.4107 - mae: 0.5185 - val_loss: 0.6705 - val_mae: 0.6430\n",
      "Epoch 60/100\n",
      "337/337 [==============================] - 0s 348us/sample - loss: 0.4164 - mae: 0.5092 - val_loss: 0.6876 - val_mae: 0.6408\n",
      "Epoch 61/100\n",
      "337/337 [==============================] - 0s 585us/sample - loss: 0.4311 - mae: 0.5211 - val_loss: 0.6559 - val_mae: 0.6399\n",
      "Epoch 62/100\n",
      "337/337 [==============================] - 0s 594us/sample - loss: 0.3972 - mae: 0.5042 - val_loss: 0.6472 - val_mae: 0.6344\n",
      "Epoch 63/100\n",
      "337/337 [==============================] - 0s 597us/sample - loss: 0.4343 - mae: 0.5174 - val_loss: 0.6765 - val_mae: 0.6550\n",
      "Epoch 64/100\n",
      "337/337 [==============================] - 0s 587us/sample - loss: 0.3808 - mae: 0.4951 - val_loss: 0.6708 - val_mae: 0.6411\n",
      "Epoch 65/100\n",
      "337/337 [==============================] - 0s 647us/sample - loss: 0.3873 - mae: 0.5030 - val_loss: 0.6977 - val_mae: 0.6314\n",
      "Epoch 66/100\n",
      "337/337 [==============================] - 0s 533us/sample - loss: 0.3764 - mae: 0.4841 - val_loss: 0.6879 - val_mae: 0.6451\n",
      "Epoch 67/100\n",
      "337/337 [==============================] - 0s 580us/sample - loss: 0.3883 - mae: 0.4807 - val_loss: 0.6986 - val_mae: 0.6578\n",
      "Epoch 68/100\n",
      "337/337 [==============================] - 0s 587us/sample - loss: 0.3826 - mae: 0.4981 - val_loss: 0.6959 - val_mae: 0.6462\n",
      "Epoch 69/100\n",
      "337/337 [==============================] - 0s 596us/sample - loss: 0.4135 - mae: 0.5099 - val_loss: 0.7055 - val_mae: 0.6473\n",
      "Epoch 70/100\n",
      "337/337 [==============================] - 0s 587us/sample - loss: 0.4070 - mae: 0.5088 - val_loss: 0.6969 - val_mae: 0.6599\n",
      "Epoch 71/100\n",
      "337/337 [==============================] - 0s 590us/sample - loss: 0.3736 - mae: 0.4967 - val_loss: 0.7739 - val_mae: 0.6555\n",
      "Epoch 72/100\n",
      "337/337 [==============================] - 0s 591us/sample - loss: 0.4163 - mae: 0.5035 - val_loss: 0.6640 - val_mae: 0.6453\n",
      "Epoch 73/100\n",
      "337/337 [==============================] - 0s 587us/sample - loss: 0.4053 - mae: 0.5102 - val_loss: 0.6846 - val_mae: 0.6562\n",
      "Epoch 74/100\n",
      "337/337 [==============================] - 0s 580us/sample - loss: 0.3835 - mae: 0.4881 - val_loss: 0.6672 - val_mae: 0.6445\n",
      "Epoch 75/100\n",
      "337/337 [==============================] - 0s 590us/sample - loss: 0.3735 - mae: 0.4869 - val_loss: 0.6763 - val_mae: 0.6434\n",
      "Epoch 76/100\n",
      "337/337 [==============================] - 0s 327us/sample - loss: 0.3964 - mae: 0.4867 - val_loss: 0.7039 - val_mae: 0.6450\n",
      "Epoch 77/100\n",
      "337/337 [==============================] - 0s 587us/sample - loss: 0.4116 - mae: 0.5149 - val_loss: 0.6944 - val_mae: 0.6535\n",
      "Epoch 78/100\n",
      "337/337 [==============================] - 0s 580us/sample - loss: 0.3689 - mae: 0.4849 - val_loss: 0.7053 - val_mae: 0.6416\n",
      "Epoch 79/100\n",
      "337/337 [==============================] - 0s 592us/sample - loss: 0.3789 - mae: 0.4761 - val_loss: 0.7015 - val_mae: 0.6428\n",
      "Epoch 80/100\n",
      "337/337 [==============================] - 0s 590us/sample - loss: 0.3576 - mae: 0.4701 - val_loss: 0.7038 - val_mae: 0.6411\n",
      "Epoch 81/100\n",
      "337/337 [==============================] - 0s 589us/sample - loss: 0.3845 - mae: 0.4777 - val_loss: 0.7080 - val_mae: 0.6417\n",
      "Epoch 82/100\n",
      "337/337 [==============================] - 0s 582us/sample - loss: 0.3837 - mae: 0.4889 - val_loss: 0.7186 - val_mae: 0.6471\n",
      "Epoch 83/100\n",
      "337/337 [==============================] - 0s 586us/sample - loss: 0.3552 - mae: 0.4744 - val_loss: 0.7239 - val_mae: 0.6475\n",
      "Epoch 84/100\n",
      "337/337 [==============================] - 0s 568us/sample - loss: 0.3590 - mae: 0.4733 - val_loss: 0.7307 - val_mae: 0.6497\n",
      "Epoch 85/100\n",
      "337/337 [==============================] - 0s 339us/sample - loss: 0.3607 - mae: 0.4727 - val_loss: 0.7542 - val_mae: 0.6659\n",
      "Epoch 86/100\n",
      "337/337 [==============================] - 0s 340us/sample - loss: 0.3559 - mae: 0.4737 - val_loss: 0.7707 - val_mae: 0.6780\n",
      "Epoch 87/100\n",
      "337/337 [==============================] - 0s 594us/sample - loss: 0.3278 - mae: 0.4540 - val_loss: 0.7913 - val_mae: 0.6750\n",
      "Epoch 88/100\n",
      "337/337 [==============================] - 0s 583us/sample - loss: 0.3502 - mae: 0.4636 - val_loss: 0.7670 - val_mae: 0.6603\n",
      "Epoch 89/100\n",
      "337/337 [==============================] - 0s 579us/sample - loss: 0.3501 - mae: 0.4646 - val_loss: 0.7633 - val_mae: 0.6665\n",
      "Epoch 90/100\n",
      "337/337 [==============================] - 0s 568us/sample - loss: 0.3778 - mae: 0.4868 - val_loss: 0.7355 - val_mae: 0.6537\n",
      "Epoch 91/100\n",
      "337/337 [==============================] - 0s 342us/sample - loss: 0.3721 - mae: 0.4808 - val_loss: 0.7239 - val_mae: 0.6496\n",
      "Epoch 92/100\n",
      "337/337 [==============================] - 0s 839us/sample - loss: 0.3501 - mae: 0.4615 - val_loss: 0.7202 - val_mae: 0.6505\n",
      "Epoch 93/100\n",
      "337/337 [==============================] - 0s 336us/sample - loss: 0.3593 - mae: 0.4808 - val_loss: 0.7842 - val_mae: 0.6682\n",
      "Epoch 94/100\n",
      "337/337 [==============================] - 0s 597us/sample - loss: 0.3458 - mae: 0.4664 - val_loss: 0.7752 - val_mae: 0.6583\n",
      "Epoch 95/100\n",
      "337/337 [==============================] - 0s 584us/sample - loss: 0.3772 - mae: 0.4968 - val_loss: 0.7860 - val_mae: 0.6626\n",
      "Epoch 96/100\n",
      "337/337 [==============================] - 0s 582us/sample - loss: 0.3606 - mae: 0.4705 - val_loss: 0.7535 - val_mae: 0.6517\n",
      "Epoch 97/100\n",
      "337/337 [==============================] - 0s 584us/sample - loss: 0.3230 - mae: 0.4426 - val_loss: 0.7673 - val_mae: 0.6658\n",
      "Epoch 98/100\n",
      "337/337 [==============================] - 0s 591us/sample - loss: 0.3456 - mae: 0.4679 - val_loss: 0.8395 - val_mae: 0.6807\n",
      "Epoch 99/100\n",
      "337/337 [==============================] - 0s 571us/sample - loss: 0.3551 - mae: 0.4607 - val_loss: 0.7977 - val_mae: 0.6782\n",
      "Epoch 100/100\n",
      "337/337 [==============================] - 0s 340us/sample - loss: 0.3383 - mae: 0.4632 - val_loss: 0.8200 - val_mae: 0.6705\n"
     ]
    }
   ],
   "source": [
    "# Train the model, with some of the data reserved for validation\n",
    "\n",
    "history = model.fit(train_data, train_target, epochs = 100, validation_split=0.15, batch_size=64)"
   ]
  },
  {
   "cell_type": "code",
   "execution_count": 24,
   "metadata": {},
   "outputs": [
    {
     "name": "stdout",
     "output_type": "stream",
     "text": [
      "45/1 - 0s - loss: 0.4516 - mae: 0.6067\n"
     ]
    },
    {
     "data": {
      "text/plain": [
       "[0.5246233880519867, 0.6066817]"
      ]
     },
     "execution_count": 24,
     "metadata": {},
     "output_type": "execute_result"
    }
   ],
   "source": [
    "# Evaluate the model on the test set\n",
    "\n",
    "model.evaluate(test_data, test_target, verbose = 2)"
   ]
  },
  {
   "cell_type": "markdown",
   "metadata": {},
   "source": [
    "#### Plot the learning curves"
   ]
  },
  {
   "cell_type": "code",
   "execution_count": 25,
   "metadata": {},
   "outputs": [
    {
     "data": {
      "image/png": "[encoded data removed]",
      "text/plain": [
       "<Figure size 432x288 with 1 Axes>"
      ]
     },
     "metadata": {
      "needs_background": "light"
     },
     "output_type": "display_data"
    }
   ],
   "source": [
    "# Plot the training and validation loss\n",
    "\n",
    "import matplotlib.pyplot as plt\n",
    "\n",
    "plt.plot(history.history['loss'])\n",
    "plt.plot(history.history['val_loss'])\n",
    "plt.title('Loss vs. epochs')\n",
    "plt.ylabel('Loss')\n",
    "plt.xlabel('Epoch')\n",
    "plt.legend(['Training', 'Validation'], loc='upper right')\n",
    "plt.show()"
   ]
  },
  {
   "cell_type": "markdown",
   "metadata": {},
   "source": [
    "***\n",
    "<a id=\"coding_tutorial_3\"></a>\n",
    "## Introduction to callbacks"
   ]
  },
  {
   "cell_type": "markdown",
   "metadata": {},
   "source": [
    "#### Example training callback"
   ]
  },
  {
   "cell_type": "code",
   "execution_count": 41,
   "metadata": {},
   "outputs": [],
   "source": [
    "# Write a custom callback\n",
    "\n",
    "from tensorflow.keras.callbacks import Callback\n",
    "\n",
    "class TrainingCallback(Callback):\n",
    "    \n",
    "    def on_train_begin(self, logs = None):\n",
    "        print(\"Starting training...\")\n",
    "        \n",
    "    def on_epoch_begin(self, epoch, logs = None):\n",
    "        print(f\"Starting epoch {epoch}\")\n",
    "    \n",
    "    def on_train_batch_begin(self, batch, logs = None):\n",
    "        print(f\"Training: Starting batch {batch}\")\n",
    "        \n",
    "    def on_train_batch_end(self, batch, logs = None):\n",
    "        print(f\"Training: Finished batch {batch}\")\n",
    "        \n",
    "    def on_epoch_end(self, epoch, logs = None):\n",
    "        print(f\"Finished epoch {epoch}\")\n",
    "    \n",
    "    def on_train_end(self, logs = None):\n",
    "        print(\"Finshed training!\")\n"
   ]
  },
  {
   "cell_type": "code",
   "execution_count": 42,
   "metadata": {},
   "outputs": [],
   "source": [
    "# Re-build the model\n",
    "\n",
    "model = get_regularised_model(1e-5, 0.3)"
   ]
  },
  {
   "cell_type": "code",
   "execution_count": 43,
   "metadata": {},
   "outputs": [],
   "source": [
    "# Compile the model\n",
    "\n",
    "model.compile(optimizer = 'adam',\n",
    "             loss = 'mse')"
   ]
  },
  {
   "cell_type": "markdown",
   "metadata": {},
   "source": [
    "#### Train the model with the callback"
   ]
  },
  {
   "cell_type": "code",
   "execution_count": 44,
   "metadata": {},
   "outputs": [
    {
     "name": "stdout",
     "output_type": "stream",
     "text": [
      "Train on 397 samples\n",
      "Starting training...\n",
      "Starting epoch 0\n",
      "Epoch 1/3\n",
      "Training: Starting batch 0\n",
      "Training: Finished batch 0\n",
      "128/397 [========>.....................] - ETA: 3s - loss: 0.9457Training: Starting batch 1\n",
      "Training: Finished batch 1\n",
      "Training: Starting batch 2\n",
      "Training: Finished batch 2\n",
      "384/397 [============================>.] - ETA: 0s - loss: 1.0276Training: Starting batch 3\n",
      "Training: Finished batch 3\n",
      "Finished epoch 0\n",
      "397/397 [==============================] - 2s 5ms/sample - loss: 1.0240\n",
      "Starting epoch 1\n",
      "Epoch 2/3\n",
      "Training: Starting batch 0\n",
      "Training: Finished batch 0\n",
      "128/397 [========>.....................] - ETA: 0s - loss: 1.0839Training: Starting batch 1\n",
      "Training: Finished batch 1\n",
      "Training: Starting batch 2\n",
      "Training: Finished batch 2\n",
      "384/397 [============================>.] - ETA: 0s - loss: 1.0107Training: Starting batch 3\n",
      "Training: Finished batch 3\n",
      "Finished epoch 1\n",
      "397/397 [==============================] - 0s 493us/sample - loss: 1.0171\n",
      "Starting epoch 2\n",
      "Epoch 3/3\n",
      "Training: Starting batch 0\n",
      "Training: Finished batch 0\n",
      "128/397 [========>.....................] - ETA: 0s - loss: 0.9576Training: Starting batch 1\n",
      "Training: Finished batch 1\n",
      "256/397 [==================>...........] - ETA: 0s - loss: 0.9739Training: Starting batch 2\n",
      "Training: Finished batch 2\n",
      "Training: Starting batch 3\n",
      "Training: Finished batch 3\n",
      "Finished epoch 2\n",
      "397/397 [==============================] - 0s 267us/sample - loss: 1.0086\n",
      "Finshed training!\n"
     ]
    },
    {
     "data": {
      "text/plain": [
       "<tensorflow.python.keras.callbacks.History at 0x7f5a041399b0>"
      ]
     },
     "execution_count": 44,
     "metadata": {},
     "output_type": "execute_result"
    }
   ],
   "source": [
    "# Train the model, with some of the data reserved for validation\n",
    "\n",
    "model.fit(train_data, train_target, epochs = 3, batch_size = 128, callbacks = [TrainingCallback()])"
   ]
  },
  {
   "cell_type": "code",
   "execution_count": 45,
   "metadata": {},
   "outputs": [],
   "source": [
    "# Write a custom testing callback\n",
    "\n",
    "from tensorflow.keras.callbacks import Callback\n",
    "\n",
    "class TestingCallback(Callback):\n",
    "    \n",
    "    def on_test_begin(self, logs = None):\n",
    "        print(\"Starting testing...\")     \n",
    "    \n",
    "    def on_test_batch_begin(self, batch, logs = None):\n",
    "        print(f\"Testing: Starting batch {batch}\")\n",
    "        \n",
    "    def on_test_batch_end(self, batch, logs = None):\n",
    "        print(f\"Testing: Finished batch {batch}\")\n",
    "    \n",
    "    def on_test_end(self, logs = None):\n",
    "        print(\"Finshed testing!\")\n"
   ]
  },
  {
   "cell_type": "code",
   "execution_count": 46,
   "metadata": {},
   "outputs": [
    {
     "name": "stdout",
     "output_type": "stream",
     "text": [
      "Starting testing...\n",
      "Testing: Starting batch 0\n",
      "Testing: Finished batch 0\n",
      "Testing: Starting batch 1\n",
      "Testing: Finished batch 1\n",
      "45/1 - 0s - loss: 1.0574\n",
      "Finshed testing!\n"
     ]
    },
    {
     "data": {
      "text/plain": [
       "0.8533161401748657"
      ]
     },
     "execution_count": 46,
     "metadata": {},
     "output_type": "execute_result"
    }
   ],
   "source": [
    "# Evaluate the model\n",
    "\n",
    "model.evaluate(test_data, test_target, callbacks = [TestingCallback()], verbose = 2)"
   ]
  },
  {
   "cell_type": "code",
   "execution_count": 47,
   "metadata": {},
   "outputs": [],
   "source": [
    "# Write a custom prediction callback\n",
    "\n",
    "from tensorflow.keras.callbacks import Callback\n",
    "\n",
    "class PredictionCallback(Callback):\n",
    "    \n",
    "    def on_predict_begin(self, logs = None):\n",
    "        print(\"Starting prediction...\")     \n",
    "    \n",
    "    def on_predict_batch_begin(self, batch, logs = None):\n",
    "        print(f\"Prediction: Starting batch {batch}\")\n",
    "        \n",
    "    def on_predict_batch_end(self, batch, logs = None):\n",
    "        print(f\"Prediction: Finished batch {batch}\")\n",
    "    \n",
    "    def on_predict_end(self, logs = None):\n",
    "        print(\"Finshed prediction!\")\n"
   ]
  },
  {
   "cell_type": "code",
   "execution_count": 49,
   "metadata": {},
   "outputs": [
    {
     "name": "stdout",
     "output_type": "stream",
     "text": [
      "Starting prediction...\n",
      "Prediction: Starting batch 0\n",
      "Prediction: Finished batch 0\n",
      "Prediction: Starting batch 1\n",
      "Prediction: Finished batch 1\n",
      "45/1 - 0s\n",
      "Finshed prediction!\n"
     ]
    },
    {
     "data": {
      "text/plain": [
       "array([[0.00816938],\n",
       "       [0.04154014],\n",
       "       [0.0297704 ],\n",
       "       [0.05223765],\n",
       "       [0.03092851],\n",
       "       [0.01888221],\n",
       "       [0.00789596],\n",
       "       [0.03080745],\n",
       "       [0.01873691],\n",
       "       [0.01738143],\n",
       "       [0.04313523],\n",
       "       [0.09152647],\n",
       "       [0.05752211],\n",
       "       [0.06276052],\n",
       "       [0.0465243 ],\n",
       "       [0.00377789],\n",
       "       [0.03704588],\n",
       "       [0.09330441],\n",
       "       [0.0347306 ],\n",
       "       [0.06058391],\n",
       "       [0.01939713],\n",
       "       [0.06407343],\n",
       "       [0.0579199 ],\n",
       "       [0.07472275],\n",
       "       [0.01621364],\n",
       "       [0.01467126],\n",
       "       [0.0211934 ],\n",
       "       [0.05517456],\n",
       "       [0.10692474],\n",
       "       [0.00537521],\n",
       "       [0.00461022],\n",
       "       [0.07915086],\n",
       "       [0.07822065],\n",
       "       [0.09695481],\n",
       "       [0.0631071 ],\n",
       "       [0.06381067],\n",
       "       [0.04363045],\n",
       "       [0.04968356],\n",
       "       [0.00620001],\n",
       "       [0.01130144],\n",
       "       [0.05645014],\n",
       "       [0.07120457],\n",
       "       [0.11101899],\n",
       "       [0.04197528],\n",
       "       [0.01672124]], dtype=float32)"
      ]
     },
     "execution_count": 49,
     "metadata": {},
     "output_type": "execute_result"
    }
   ],
   "source": [
    "# Make predictions with the model\n",
    "\n",
    "model.predict(test_data, verbose =2, callbacks = [PredictionCallback()])"
   ]
  },
  {
   "cell_type": "markdown",
   "metadata": {},
   "source": [
    "***\n",
    "<a id=\"coding_tutorial_4\"></a>\n",
    "## Early stopping / patience"
   ]
  },
  {
   "cell_type": "markdown",
   "metadata": {},
   "source": [
    "#### Re-train the models with early stopping"
   ]
  },
  {
   "cell_type": "code",
   "execution_count": 35,
   "metadata": {},
   "outputs": [
    {
     "name": "stdout",
     "output_type": "stream",
     "text": [
      "Train on 337 samples, validate on 60 samples\n",
      "Epoch 1/100\n",
      "337/337 [==============================] - 2s 5ms/sample - loss: 0.9901 - val_loss: 0.8526\n",
      "Epoch 2/100\n",
      "337/337 [==============================] - 0s 579us/sample - loss: 0.8951 - val_loss: 0.7634\n",
      "Epoch 3/100\n",
      "337/337 [==============================] - 0s 345us/sample - loss: 0.6859 - val_loss: 0.8000\n",
      "Epoch 4/100\n",
      "337/337 [==============================] - 0s 349us/sample - loss: 0.5188 - val_loss: 0.8455\n"
     ]
    }
   ],
   "source": [
    "# Re-train the unregularised model\n",
    "\n",
    "unregularised_model = get_model()\n",
    "unregularised_model.compile(optimizer = 'adam',\n",
    "                           loss = 'mse')\n",
    "unreg_history = unregularised_model.fit(train_data, train_target, epochs = 100, \n",
    "                                        validation_split = 0.15, batch_size = 64,\n",
    "                                       callbacks = [tf.keras.callbacks.EarlyStopping(patience = 2)])"
   ]
  },
  {
   "cell_type": "code",
   "execution_count": 16,
   "metadata": {},
   "outputs": [
    {
     "name": "stdout",
     "output_type": "stream",
     "text": [
      "45/1 - 0s - loss: 0.7101\n"
     ]
    },
    {
     "data": {
      "text/plain": [
       "0.7511086781819661"
      ]
     },
     "execution_count": 16,
     "metadata": {},
     "output_type": "execute_result"
    }
   ],
   "source": [
    "# Evaluate the model on the test set\n",
    "\n",
    "unregularised_model.evaluate(test_data, test_target, verbose =2)"
   ]
  },
  {
   "cell_type": "code",
   "execution_count": 34,
   "metadata": {},
   "outputs": [
    {
     "name": "stdout",
     "output_type": "stream",
     "text": [
      "Train on 337 samples, validate on 60 samples\n",
      "Epoch 1/100\n",
      "337/337 [==============================] - 2s 6ms/sample - loss: 0.9977 - val_loss: 0.8646\n",
      "Epoch 2/100\n",
      "337/337 [==============================] - 0s 574us/sample - loss: 0.9481 - val_loss: 0.7951\n",
      "Epoch 3/100\n",
      "337/337 [==============================] - 0s 599us/sample - loss: 0.8081 - val_loss: 0.7413\n",
      "Epoch 4/100\n",
      "337/337 [==============================] - 0s 839us/sample - loss: 0.6029 - val_loss: 0.7767\n",
      "Epoch 5/100\n",
      "337/337 [==============================] - 0s 597us/sample - loss: 0.5394 - val_loss: 0.8207\n"
     ]
    }
   ],
   "source": [
    "# Re-train the regularised model\n",
    "\n",
    "regularised_model = get_regularised_model(1e-8, 0.2)\n",
    "regularised_model.compile(optimizer = 'adam',\n",
    "                         loss = 'mse')\n",
    "reg_history = regularised_model.fit(train_data, train_target, epochs = 100, \n",
    "                                        validation_split = 0.15, batch_size = 64,\n",
    "                                       callbacks = [tf.keras.callbacks.EarlyStopping(patience = 2)])"
   ]
  },
  {
   "cell_type": "code",
   "execution_count": 19,
   "metadata": {},
   "outputs": [
    {
     "name": "stdout",
     "output_type": "stream",
     "text": [
      "45/1 - 0s - loss: 0.7076\n"
     ]
    },
    {
     "data": {
      "text/plain": [
       "0.7631201214260526"
      ]
     },
     "execution_count": 19,
     "metadata": {},
     "output_type": "execute_result"
    }
   ],
   "source": [
    "# Evaluate the model on the test set\n",
    "\n",
    "regularised_model.evaluate(test_data, test_target, verbose=2)"
   ]
  },
  {
   "cell_type": "markdown",
   "metadata": {},
   "source": [
    "#### Plot the learning curves"
   ]
  },
  {
   "cell_type": "code",
   "execution_count": 36,
   "metadata": {},
   "outputs": [
    {
     "data": {
      "image/png": "[encoded data removed]",
      "text/plain": [
       "<Figure size 864x360 with 2 Axes>"
      ]
     },
     "metadata": {
      "needs_background": "light"
     },
     "output_type": "display_data"
    }
   ],
   "source": [
    "# Plot the training and validation loss\n",
    "\n",
    "import matplotlib.pyplot as plt\n",
    "\n",
    "fig = plt.figure(figsize=(12, 5))\n",
    "\n",
    "fig.add_subplot(121)\n",
    "\n",
    "plt.plot(unreg_history.history['loss'])\n",
    "plt.plot(unreg_history.history['val_loss'])\n",
    "plt.title('Unregularised model: loss vs. epochs')\n",
    "plt.ylabel('Loss')\n",
    "plt.xlabel('Epoch')\n",
    "plt.legend(['Training', 'Validation'], loc='upper right')\n",
    "\n",
    "fig.add_subplot(122)\n",
    "\n",
    "plt.plot(reg_history.history['loss'])\n",
    "plt.plot(reg_history.history['val_loss'])\n",
    "plt.title('Regularised model: loss vs. epochs')\n",
    "plt.ylabel('Loss')\n",
    "plt.xlabel('Epoch')\n",
    "plt.legend(['Training', 'Validation'], loc='upper right')\n",
    "\n",
    "plt.show()"
   ]
  }
 ],
 "metadata": {
  "kernelspec": {
   "display_name": "Python 3",
   "language": "python",
   "name": "python3"
  },
  "language_info": {
   "codemirror_mode": {
    "name": "ipython",
    "version": 3
   },
   "file_extension": ".py",
   "mimetype": "text/x-python",
   "name": "python",
   "nbconvert_exporter": "python",
   "pygments_lexer": "ipython3",
   "version": "3.7.1"
  }
 },
 "nbformat": 4,
 "nbformat_minor": 2
}
